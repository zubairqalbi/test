{
 "cells": [
  {
   "cell_type": "code",
   "execution_count": 1,
   "metadata": {},
   "outputs": [
    {
     "name": "stderr",
     "output_type": "stream",
     "text": [
      "Using TensorFlow backend.\n"
     ]
    }
   ],
   "source": [
    "from keras.layers import Input, Dense\n",
    "from keras.models import Model"
   ]
  },
  {
   "cell_type": "code",
   "execution_count": 2,
   "metadata": {},
   "outputs": [],
   "source": [
    "encoding_dim = 32\n",
    "input_img = Input(shape=(784,))\n",
    "\n",
    "encoded = Dense(encoding_dim, activation='relu')(input_img)\n",
    "decoded = Dense(784, activation='sigmoid')(encoded)\n",
    "\n",
    "autoencoder = Model(input_img, decoded)"
   ]
  },
  {
   "cell_type": "code",
   "execution_count": 3,
   "metadata": {},
   "outputs": [],
   "source": [
    "encoder = Model(input_img, encoded)"
   ]
  },
  {
   "cell_type": "code",
   "execution_count": 4,
   "metadata": {},
   "outputs": [],
   "source": [
    "encoded_input = Input(shape=(encoding_dim,))\n",
    "decoder_layer = autoencoder.layers[-1]\n",
    "\n",
    "decoder = Model(encoded_input, decoder_layer(encoded_input))"
   ]
  },
  {
   "cell_type": "code",
   "execution_count": 5,
   "metadata": {},
   "outputs": [],
   "source": [
    "autoencoder.compile(optimizer='adadelta', loss='binary_crossentropy')"
   ]
  },
  {
   "cell_type": "code",
   "execution_count": 6,
   "metadata": {},
   "outputs": [],
   "source": [
    "from keras.datasets import mnist\n",
    "import numpy as np\n",
    "(x_train, _), (x_test, _) = mnist.load_data()\n"
   ]
  },
  {
   "cell_type": "code",
   "execution_count": 7,
   "metadata": {},
   "outputs": [],
   "source": [
    "x_train = x_train.astype('float32')/255.0\n",
    "x_test = x_test.astype('float32')/255.0"
   ]
  },
  {
   "cell_type": "code",
   "execution_count": 8,
   "metadata": {},
   "outputs": [
    {
     "name": "stdout",
     "output_type": "stream",
     "text": [
      "(60000, 784)\n",
      "(10000, 784)\n"
     ]
    }
   ],
   "source": [
    "x_train = x_train.reshape((len(x_train),np.prod(x_train.shape[1:])))\n",
    "x_test = x_test.reshape((len(x_test), np.prod(x_test.shape[1:])))\n",
    "\n",
    "print(x_train.shape)\n",
    "print(x_test.shape)"
   ]
  },
  {
   "cell_type": "code",
   "execution_count": 9,
   "metadata": {},
   "outputs": [
    {
     "name": "stdout",
     "output_type": "stream",
     "text": [
      "Train on 60000 samples, validate on 10000 samples\n",
      "Epoch 1/50\n",
      "60000/60000 [==============================] - 6s 95us/step - loss: 0.3559 - val_loss: 0.2710\n",
      "Epoch 2/50\n",
      "60000/60000 [==============================] - 6s 93us/step - loss: 0.2633 - val_loss: 0.2520\n",
      "Epoch 3/50\n",
      "60000/60000 [==============================] - 5s 80us/step - loss: 0.2411 - val_loss: 0.2285\n",
      "Epoch 4/50\n",
      "60000/60000 [==============================] - 5s 79us/step - loss: 0.2209 - val_loss: 0.2115\n",
      "Epoch 5/50\n",
      "60000/60000 [==============================] - 5s 88us/step - loss: 0.2069 - val_loss: 0.1998\n",
      "Epoch 6/50\n",
      "60000/60000 [==============================] - 5s 85us/step - loss: 0.1966 - val_loss: 0.1906\n",
      "Epoch 7/50\n",
      "60000/60000 [==============================] - 6s 92us/step - loss: 0.1880 - val_loss: 0.1829\n",
      "Epoch 8/50\n",
      "60000/60000 [==============================] - 5s 87us/step - loss: 0.1806 - val_loss: 0.1759\n",
      "Epoch 9/50\n",
      "60000/60000 [==============================] - 5s 89us/step - loss: 0.1743 - val_loss: 0.1701\n",
      "Epoch 10/50\n",
      "60000/60000 [==============================] - 5s 87us/step - loss: 0.1688 - val_loss: 0.1650\n",
      "Epoch 11/50\n",
      "60000/60000 [==============================] - 5s 86us/step - loss: 0.1639 - val_loss: 0.1604\n",
      "Epoch 12/50\n",
      "60000/60000 [==============================] - 5s 85us/step - loss: 0.1596 - val_loss: 0.1563\n",
      "Epoch 13/50\n",
      "60000/60000 [==============================] - 5s 88us/step - loss: 0.1557 - val_loss: 0.1526\n",
      "Epoch 14/50\n",
      "60000/60000 [==============================] - 5s 88us/step - loss: 0.1522 - val_loss: 0.1491\n",
      "Epoch 15/50\n",
      "60000/60000 [==============================] - 5s 91us/step - loss: 0.1489 - val_loss: 0.1460\n",
      "Epoch 16/50\n",
      "60000/60000 [==============================] - 5s 88us/step - loss: 0.1459 - val_loss: 0.1431\n",
      "Epoch 17/50\n",
      "60000/60000 [==============================] - 5s 89us/step - loss: 0.1431 - val_loss: 0.1404\n",
      "Epoch 18/50\n",
      "60000/60000 [==============================] - 5s 88us/step - loss: 0.1404 - val_loss: 0.1376\n",
      "Epoch 19/50\n",
      "60000/60000 [==============================] - 5s 87us/step - loss: 0.1379 - val_loss: 0.1352\n",
      "Epoch 20/50\n",
      "60000/60000 [==============================] - 5s 90us/step - loss: 0.1355 - val_loss: 0.1329\n",
      "Epoch 21/50\n",
      "60000/60000 [==============================] - 5s 89us/step - loss: 0.1332 - val_loss: 0.1306\n",
      "Epoch 22/50\n",
      "60000/60000 [==============================] - 5s 88us/step - loss: 0.1311 - val_loss: 0.1285\n",
      "Epoch 23/50\n",
      "60000/60000 [==============================] - 5s 88us/step - loss: 0.1290 - val_loss: 0.1265\n",
      "Epoch 24/50\n",
      "60000/60000 [==============================] - 5s 88us/step - loss: 0.1271 - val_loss: 0.1245\n",
      "Epoch 25/50\n",
      "60000/60000 [==============================] - 5s 88us/step - loss: 0.1252 - val_loss: 0.1227\n",
      "Epoch 26/50\n",
      "60000/60000 [==============================] - 5s 88us/step - loss: 0.1235 - val_loss: 0.1211\n",
      "Epoch 27/50\n",
      "60000/60000 [==============================] - 5s 87us/step - loss: 0.1219 - val_loss: 0.1195\n",
      "Epoch 28/50\n",
      "60000/60000 [==============================] - 5s 85us/step - loss: 0.1203 - val_loss: 0.1180\n",
      "Epoch 29/50\n",
      "60000/60000 [==============================] - 5s 88us/step - loss: 0.1189 - val_loss: 0.1166\n",
      "Epoch 30/50\n",
      "60000/60000 [==============================] - 5s 88us/step - loss: 0.1175 - val_loss: 0.1153\n",
      "Epoch 31/50\n",
      "60000/60000 [==============================] - 5s 86us/step - loss: 0.1163 - val_loss: 0.1140\n",
      "Epoch 32/50\n",
      "60000/60000 [==============================] - 5s 89us/step - loss: 0.1151 - val_loss: 0.1129\n",
      "Epoch 33/50\n",
      "60000/60000 [==============================] - 5s 90us/step - loss: 0.1141 - val_loss: 0.1119\n",
      "Epoch 34/50\n",
      "60000/60000 [==============================] - 5s 83us/step - loss: 0.1131 - val_loss: 0.1110\n",
      "Epoch 35/50\n",
      "60000/60000 [==============================] - 5s 80us/step - loss: 0.1122 - val_loss: 0.1101\n",
      "Epoch 36/50\n",
      "60000/60000 [==============================] - 5s 82us/step - loss: 0.1113 - val_loss: 0.1093\n",
      "Epoch 37/50\n",
      "60000/60000 [==============================] - 5s 83us/step - loss: 0.1105 - val_loss: 0.1085\n",
      "Epoch 38/50\n",
      "60000/60000 [==============================] - 5s 84us/step - loss: 0.1098 - val_loss: 0.1078\n",
      "Epoch 39/50\n",
      "60000/60000 [==============================] - 5s 81us/step - loss: 0.1091 - val_loss: 0.1071\n",
      "Epoch 40/50\n",
      "60000/60000 [==============================] - 5s 80us/step - loss: 0.1085 - val_loss: 0.1065\n",
      "Epoch 41/50\n",
      "60000/60000 [==============================] - 5s 81us/step - loss: 0.1079 - val_loss: 0.1059\n",
      "Epoch 42/50\n",
      "60000/60000 [==============================] - 5s 81us/step - loss: 0.1073 - val_loss: 0.1053\n",
      "Epoch 43/50\n",
      "60000/60000 [==============================] - 5s 81us/step - loss: 0.1068 - val_loss: 0.1048\n",
      "Epoch 44/50\n",
      "60000/60000 [==============================] - 5s 86us/step - loss: 0.1063 - val_loss: 0.1044\n",
      "Epoch 45/50\n",
      "60000/60000 [==============================] - 5s 85us/step - loss: 0.1058 - val_loss: 0.1039\n",
      "Epoch 46/50\n",
      "60000/60000 [==============================] - 5s 80us/step - loss: 0.1054 - val_loss: 0.1035\n",
      "Epoch 47/50\n",
      "60000/60000 [==============================] - 5s 82us/step - loss: 0.1050 - val_loss: 0.1031\n",
      "Epoch 48/50\n",
      "60000/60000 [==============================] - 5s 88us/step - loss: 0.1046 - val_loss: 0.1027\n",
      "Epoch 49/50\n",
      "60000/60000 [==============================] - 5s 84us/step - loss: 0.1042 - val_loss: 0.1023\n",
      "Epoch 50/50\n",
      "60000/60000 [==============================] - 5s 84us/step - loss: 0.1038 - val_loss: 0.1020\n"
     ]
    },
    {
     "data": {
      "text/plain": [
       "<keras.callbacks.History at 0x247d2a8f400>"
      ]
     },
     "execution_count": 9,
     "metadata": {},
     "output_type": "execute_result"
    }
   ],
   "source": [
    "autoencoder.fit(x_train, x_train, epochs = 50, batch_size = 256, shuffle=True, validation_data=(x_test, x_test))"
   ]
  },
  {
   "cell_type": "code",
   "execution_count": 10,
   "metadata": {},
   "outputs": [],
   "source": [
    "encoded_imgs = encoder.predict(x_test)\n",
    "decoded_imgs = decoder.predict(encoded_imgs)\n",
    "\n",
    "autoencoder_imgs = autoencoder.predict(x_test)"
   ]
  },
  {
   "cell_type": "code",
   "execution_count": 12,
   "metadata": {
    "scrolled": true
   },
   "outputs": [
    {
     "data": {
      "image/png": "[encoded data removed]",
      "text/plain": [
       "<Figure size 1440x288 with 20 Axes>"
      ]
     },
     "metadata": {
      "needs_background": "light"
     },
     "output_type": "display_data"
    }
   ],
   "source": [
    "import matplotlib.pyplot as plt\n",
    "%matplotlib inline\n",
    "\n",
    "n = 10\n",
    "\n",
    "plt.figure(figsize=(20, 4))\n",
    "for i in range(n):\n",
    "    ax = plt.subplot(2, n, i+1)\n",
    "    plt.imshow(x_test[i].reshape(28, 28))\n",
    "    plt.gray()\n",
    "    ax.get_xaxis().set_visible(False)\n",
    "    ax.get_yaxis().set_visible(False)\n",
    "    \n",
    "    ax = plt.subplot(2, n, i+1+n)\n",
    "    plt.imshow(decoded_imgs[i].reshape(28, 28))\n",
    "    plt.gray()\n",
    "    ax.get_xaxis().set_visible(False)\n",
    "    ax.get_yaxis().set_visible(False)\n",
    "plt.show()    "
   ]
  },
  {
   "cell_type": "code",
   "execution_count": 26,
   "metadata": {},
   "outputs": [],
   "source": [
    "autoencoder.save('C:/Users/Muhammad Zubair Khan/Desktop/Directed Reading/Jupyter_notebooks_code/B_mnist_codefile/model1.h5')\n",
    "autoencoder.save_weights('C:/Users/Muhammad Zubair Khan/Desktop/Directed Reading/Jupyter_notebooks_code/B_mnist_codefile/model1_weight.h5')"
   ]
  },
  {
   "cell_type": "code",
   "execution_count": 13,
   "metadata": {},
   "outputs": [
    {
     "data": {
      "text/plain": [
       "7.4569764"
      ]
     },
     "execution_count": 13,
     "metadata": {},
     "output_type": "execute_result"
    }
   ],
   "source": [
    "encoded_imgs.mean()"
   ]
  },
  {
   "cell_type": "code",
   "execution_count": 14,
   "metadata": {},
   "outputs": [],
   "source": [
    "from keras import regularizers"
   ]
  },
  {
   "cell_type": "code",
   "execution_count": 15,
   "metadata": {},
   "outputs": [],
   "source": [
    "encoding_dim = 32\n",
    "\n",
    "input_img = Input(shape=(784,))\n",
    "\n",
    "encoded = Dense(encoding_dim, activation='relu', activity_regularizer=regularizers.l1(10e-5))(input_img)\n",
    "\n",
    "decoded = Dense(784, activation='sigmoid')(encoded)\n",
    "\n",
    "autoencoder = Model(input_img, decoded)\n",
    "\n",
    "\n",
    "encoded_input = Input(shape=(encoding_dim,))\n",
    "decoder_layer = autoencoder.layers[-1]\n",
    "\n",
    "decoder = Model(encoded_input, decoder_layer(encoded_input))"
   ]
  },
  {
   "cell_type": "code",
   "execution_count": 16,
   "metadata": {},
   "outputs": [],
   "source": [
    "autoencoder.compile(optimizer='adadelta', loss='binary_crossentropy')"
   ]
  },
  {
   "cell_type": "code",
   "execution_count": 17,
   "metadata": {},
   "outputs": [
    {
     "name": "stdout",
     "output_type": "stream",
     "text": [
      "Train on 60000 samples, validate on 10000 samples\n",
      "Epoch 1/50\n",
      "60000/60000 [==============================] - 5s 84us/step - loss: 0.6728 - val_loss: 0.6485\n",
      "Epoch 2/50\n",
      "60000/60000 [==============================] - 5s 78us/step - loss: 0.6284 - val_loss: 0.6090\n",
      "Epoch 3/50\n",
      "60000/60000 [==============================] - 5s 79us/step - loss: 0.5916 - val_loss: 0.5749\n",
      "Epoch 4/50\n",
      "60000/60000 [==============================] - 5s 82us/step - loss: 0.5598 - val_loss: 0.5454\n",
      "Epoch 5/50\n",
      "60000/60000 [==============================] - 5s 81us/step - loss: 0.5323 - val_loss: 0.5198\n",
      "Epoch 6/50\n",
      "60000/60000 [==============================] - 5s 86us/step - loss: 0.5084 - val_loss: 0.4975\n",
      "Epoch 7/50\n",
      "60000/60000 [==============================] - 5s 90us/step - loss: 0.4875 - val_loss: 0.4780\n",
      "Epoch 8/50\n",
      "60000/60000 [==============================] - 5s 86us/step - loss: 0.4692 - val_loss: 0.4609\n",
      "Epoch 9/50\n",
      "60000/60000 [==============================] - 5s 84us/step - loss: 0.4531 - val_loss: 0.4457\n",
      "Epoch 10/50\n",
      "60000/60000 [==============================] - 5s 84us/step - loss: 0.4389 - val_loss: 0.4324\n",
      "Epoch 11/50\n",
      "60000/60000 [==============================] - 5s 82us/step - loss: 0.4262 - val_loss: 0.4205\n",
      "Epoch 12/50\n",
      "60000/60000 [==============================] - 5s 90us/step - loss: 0.4150 - val_loss: 0.4098\n",
      "Epoch 13/50\n",
      "60000/60000 [==============================] - 5s 82us/step - loss: 0.4049 - val_loss: 0.4003\n",
      "Epoch 14/50\n",
      "60000/60000 [==============================] - 5s 89us/step - loss: 0.3959 - val_loss: 0.3918\n",
      "Epoch 15/50\n",
      "60000/60000 [==============================] - 5s 90us/step - loss: 0.3877 - val_loss: 0.3840\n",
      "Epoch 16/50\n",
      "60000/60000 [==============================] - 5s 90us/step - loss: 0.3804 - val_loss: 0.3771\n",
      "Epoch 17/50\n",
      "60000/60000 [==============================] - 5s 91us/step - loss: 0.3737 - val_loss: 0.3707\n",
      "Epoch 18/50\n",
      "60000/60000 [==============================] - 5s 86us/step - loss: 0.3676 - val_loss: 0.3649\n",
      "Epoch 19/50\n",
      "60000/60000 [==============================] - 5s 89us/step - loss: 0.3621 - val_loss: 0.3596\n",
      "Epoch 20/50\n",
      "60000/60000 [==============================] - 5s 85us/step - loss: 0.3570 - val_loss: 0.3548\n",
      "Epoch 21/50\n",
      "60000/60000 [==============================] - 5s 85us/step - loss: 0.3524 - val_loss: 0.3503\n",
      "Epoch 22/50\n",
      "60000/60000 [==============================] - 5s 86us/step - loss: 0.3481 - val_loss: 0.3463\n",
      "Epoch 23/50\n",
      "60000/60000 [==============================] - 5s 85us/step - loss: 0.3442 - val_loss: 0.3425\n",
      "Epoch 24/50\n",
      "60000/60000 [==============================] - 5s 82us/step - loss: 0.3406 - val_loss: 0.3390\n",
      "Epoch 25/50\n",
      "60000/60000 [==============================] - 5s 82us/step - loss: 0.3372 - val_loss: 0.3357\n",
      "Epoch 26/50\n",
      "60000/60000 [==============================] - 5s 88us/step - loss: 0.3341 - val_loss: 0.3327\n",
      "Epoch 27/50\n",
      "60000/60000 [==============================] - 5s 81us/step - loss: 0.3312 - val_loss: 0.3299\n",
      "Epoch 28/50\n",
      "60000/60000 [==============================] - 5s 83us/step - loss: 0.3285 - val_loss: 0.3273\n",
      "Epoch 29/50\n",
      "60000/60000 [==============================] - 5s 84us/step - loss: 0.3259 - val_loss: 0.3249\n",
      "Epoch 30/50\n",
      "60000/60000 [==============================] - 5s 81us/step - loss: 0.3236 - val_loss: 0.3226\n",
      "Epoch 31/50\n",
      "60000/60000 [==============================] - 5s 80us/step - loss: 0.3213 - val_loss: 0.3204\n",
      "Epoch 32/50\n",
      "60000/60000 [==============================] - 5s 81us/step - loss: 0.3193 - val_loss: 0.3184\n",
      "Epoch 33/50\n",
      "60000/60000 [==============================] - 5s 79us/step - loss: 0.3173 - val_loss: 0.3165\n",
      "Epoch 34/50\n",
      "60000/60000 [==============================] - 5s 83us/step - loss: 0.3155 - val_loss: 0.3147\n",
      "Epoch 35/50\n",
      "60000/60000 [==============================] - 5s 82us/step - loss: 0.3138 - val_loss: 0.3131\n",
      "Epoch 36/50\n",
      "60000/60000 [==============================] - 5s 81us/step - loss: 0.3121 - val_loss: 0.3115\n",
      "Epoch 37/50\n",
      "60000/60000 [==============================] - 5s 84us/step - loss: 0.3106 - val_loss: 0.3100\n",
      "Epoch 38/50\n",
      "60000/60000 [==============================] - 5s 83us/step - loss: 0.3091 - val_loss: 0.3085\n",
      "Epoch 39/50\n",
      "60000/60000 [==============================] - 5s 83us/step - loss: 0.3077 - val_loss: 0.3072\n",
      "Epoch 40/50\n",
      "60000/60000 [==============================] - 5s 85us/step - loss: 0.3064 - val_loss: 0.3059\n",
      "Epoch 41/50\n",
      "60000/60000 [==============================] - 5s 82us/step - loss: 0.3052 - val_loss: 0.3047\n",
      "Epoch 42/50\n",
      "60000/60000 [==============================] - 5s 89us/step - loss: 0.3040 - val_loss: 0.3035\n",
      "Epoch 43/50\n",
      "60000/60000 [==============================] - 5s 81us/step - loss: 0.3029 - val_loss: 0.3024\n",
      "Epoch 44/50\n",
      "60000/60000 [==============================] - 5s 83us/step - loss: 0.3018 - val_loss: 0.3014\n",
      "Epoch 45/50\n",
      "60000/60000 [==============================] - 5s 84us/step - loss: 0.3008 - val_loss: 0.3004\n",
      "Epoch 46/50\n",
      "60000/60000 [==============================] - 5s 86us/step - loss: 0.2998 - val_loss: 0.2994\n",
      "Epoch 47/50\n",
      "60000/60000 [==============================] - 5s 88us/step - loss: 0.2989 - val_loss: 0.2985\n",
      "Epoch 48/50\n",
      "60000/60000 [==============================] - 5s 83us/step - loss: 0.2980 - val_loss: 0.2976\n",
      "Epoch 49/50\n",
      "60000/60000 [==============================] - 5s 81us/step - loss: 0.2971 - val_loss: 0.2968\n",
      "Epoch 50/50\n",
      "60000/60000 [==============================] - 5s 82us/step - loss: 0.2963 - val_loss: 0.2960\n"
     ]
    },
    {
     "data": {
      "text/plain": [
       "<keras.callbacks.History at 0x247d2d9bb70>"
      ]
     },
     "execution_count": 17,
     "metadata": {},
     "output_type": "execute_result"
    }
   ],
   "source": [
    "autoencoder.fit(x_train, x_train, epochs = 50, batch_size = 256, shuffle=True, validation_data=(x_test, x_test))"
   ]
  },
  {
   "cell_type": "code",
   "execution_count": 18,
   "metadata": {},
   "outputs": [],
   "source": [
    "encoded_imgs = encoder.predict(x_test)\n",
    "decoded_imgs = decoder.predict(encoded_imgs)\n",
    "\n",
    "autoencoder_imgs = autoencoder.predict(x_test)"
   ]
  },
  {
   "cell_type": "code",
   "execution_count": 19,
   "metadata": {
    "scrolled": true
   },
   "outputs": [
    {
     "data": {
      "image/png": "[encoded data removed]",
      "text/plain": [
       "<Figure size 1440x288 with 20 Axes>"
      ]
     },
     "metadata": {
      "needs_background": "light"
     },
     "output_type": "display_data"
    }
   ],
   "source": [
    "import matplotlib.pyplot as plt\n",
    "\n",
    "n = 10\n",
    "\n",
    "plt.figure(figsize=(20, 4))\n",
    "for i in range(n):\n",
    "    ax = plt.subplot(2, n, i+1)\n",
    "    plt.imshow(x_test[i].reshape(28, 28))\n",
    "    plt.gray()\n",
    "    ax.get_xaxis().set_visible(False)\n",
    "    ax.get_yaxis().set_visible(False)\n",
    "    \n",
    "    ax = plt.subplot(2, n, i+1+n)\n",
    "    plt.imshow(decoded_imgs[i].reshape(28, 28))\n",
    "    plt.gray()\n",
    "    ax.get_xaxis().set_visible(False)\n",
    "    ax.get_yaxis().set_visible(False)\n",
    "plt.show()    "
   ]
  },
  {
   "cell_type": "code",
   "execution_count": 27,
   "metadata": {},
   "outputs": [],
   "source": [
    "autoencoder.save('C:/Users/Muhammad Zubair Khan/Desktop/Directed Reading/Jupyter_notebooks_code/B_mnist_codefile/model2.h5')\n",
    "autoencoder.save_weights('C:/Users/Muhammad Zubair Khan/Desktop/Directed Reading/Jupyter_notebooks_code/B_mnist_codefile/model2_weights.h5')"
   ]
  },
  {
   "cell_type": "code",
   "execution_count": 20,
   "metadata": {},
   "outputs": [
    {
     "data": {
      "text/plain": [
       "7.4569764"
      ]
     },
     "execution_count": 20,
     "metadata": {},
     "output_type": "execute_result"
    }
   ],
   "source": [
    "encoded_imgs.mean()"
   ]
  },
  {
   "cell_type": "code",
   "execution_count": 21,
   "metadata": {},
   "outputs": [
    {
     "name": "stdout",
     "output_type": "stream",
     "text": [
      "Train on 60000 samples, validate on 10000 samples\n",
      "Epoch 1/50\n",
      "60000/60000 [==============================] - 7s 120us/step - loss: 0.3361 - val_loss: 0.2638\n",
      "Epoch 2/50\n",
      "60000/60000 [==============================] - 7s 111us/step - loss: 0.2555 - val_loss: 0.2458\n",
      "Epoch 3/50\n",
      "60000/60000 [==============================] - 6s 105us/step - loss: 0.2329 - val_loss: 0.2186\n",
      "Epoch 4/50\n",
      "60000/60000 [==============================] - 6s 107us/step - loss: 0.2138 - val_loss: 0.2076\n",
      "Epoch 5/50\n",
      "60000/60000 [==============================] - 6s 106us/step - loss: 0.2030 - val_loss: 0.1952\n",
      "Epoch 6/50\n",
      "60000/60000 [==============================] - 6s 106us/step - loss: 0.1895 - val_loss: 0.1828\n",
      "Epoch 7/50\n",
      "60000/60000 [==============================] - 7s 117us/step - loss: 0.1808 - val_loss: 0.1773\n",
      "Epoch 8/50\n",
      "60000/60000 [==============================] - 6s 108us/step - loss: 0.1753 - val_loss: 0.1702\n",
      "Epoch 9/50\n",
      "60000/60000 [==============================] - 6s 108us/step - loss: 0.1695 - val_loss: 0.1664\n",
      "Epoch 10/50\n",
      "60000/60000 [==============================] - 7s 111us/step - loss: 0.1647 - val_loss: 0.1610\n",
      "Epoch 11/50\n",
      "60000/60000 [==============================] - 7s 109us/step - loss: 0.1612 - val_loss: 0.1616\n",
      "Epoch 12/50\n",
      "60000/60000 [==============================] - 7s 116us/step - loss: 0.1578 - val_loss: 0.1543\n",
      "Epoch 13/50\n",
      "60000/60000 [==============================] - 7s 115us/step - loss: 0.1545 - val_loss: 0.1514\n",
      "Epoch 14/50\n",
      "60000/60000 [==============================] - 6s 104us/step - loss: 0.1511 - val_loss: 0.1473\n",
      "Epoch 15/50\n",
      "60000/60000 [==============================] - 7s 114us/step - loss: 0.1481 - val_loss: 0.1447\n",
      "Epoch 16/50\n",
      "60000/60000 [==============================] - 6s 108us/step - loss: 0.1456 - val_loss: 0.1420\n",
      "Epoch 17/50\n",
      "60000/60000 [==============================] - 7s 116us/step - loss: 0.1434 - val_loss: 0.1416\n",
      "Epoch 18/50\n",
      "60000/60000 [==============================] - 8s 127us/step - loss: 0.1415 - val_loss: 0.1391\n",
      "Epoch 19/50\n",
      "60000/60000 [==============================] - 10s 175us/step - loss: 0.1398 - val_loss: 0.1358\n",
      "Epoch 20/50\n",
      "60000/60000 [==============================] - 11s 179us/step - loss: 0.1378 - val_loss: 0.1353\n",
      "Epoch 21/50\n",
      "60000/60000 [==============================] - 11s 183us/step - loss: 0.1361 - val_loss: 0.1351\n",
      "Epoch 22/50\n",
      "60000/60000 [==============================] - 11s 183us/step - loss: 0.1344 - val_loss: 0.1313\n",
      "Epoch 23/50\n",
      "60000/60000 [==============================] - 10s 174us/step - loss: 0.1328 - val_loss: 0.1342\n",
      "Epoch 24/50\n",
      "60000/60000 [==============================] - 11s 180us/step - loss: 0.1312 - val_loss: 0.1286\n",
      "Epoch 25/50\n",
      "60000/60000 [==============================] - 11s 178us/step - loss: 0.1298 - val_loss: 0.1289\n",
      "Epoch 26/50\n",
      "60000/60000 [==============================] - 11s 178us/step - loss: 0.1284 - val_loss: 0.1255\n",
      "Epoch 27/50\n",
      "60000/60000 [==============================] - 11s 178us/step - loss: 0.1271 - val_loss: 0.1241\n",
      "Epoch 28/50\n",
      "60000/60000 [==============================] - 11s 179us/step - loss: 0.1258 - val_loss: 0.1230\n",
      "Epoch 29/50\n",
      "60000/60000 [==============================] - 11s 181us/step - loss: 0.1247 - val_loss: 0.1242\n",
      "Epoch 30/50\n",
      "60000/60000 [==============================] - 11s 190us/step - loss: 0.1239 - val_loss: 0.1212\n",
      "Epoch 31/50\n",
      "60000/60000 [==============================] - 11s 179us/step - loss: 0.1230 - val_loss: 0.1202\n",
      "Epoch 32/50\n",
      "60000/60000 [==============================] - 11s 188us/step - loss: 0.1221 - val_loss: 0.1207\n",
      "Epoch 33/50\n",
      "60000/60000 [==============================] - 11s 189us/step - loss: 0.1214 - val_loss: 0.1212\n",
      "Epoch 34/50\n",
      "60000/60000 [==============================] - 11s 183us/step - loss: 0.1206 - val_loss: 0.1169\n",
      "Epoch 35/50\n",
      "60000/60000 [==============================] - 11s 175us/step - loss: 0.1201 - val_loss: 0.1186\n",
      "Epoch 36/50\n",
      "60000/60000 [==============================] - 11s 179us/step - loss: 0.1193 - val_loss: 0.1182\n",
      "Epoch 37/50\n",
      "60000/60000 [==============================] - 11s 181us/step - loss: 0.1187 - val_loss: 0.1162\n",
      "Epoch 38/50\n",
      "60000/60000 [==============================] - 10s 174us/step - loss: 0.1180 - val_loss: 0.1180\n",
      "Epoch 39/50\n",
      "60000/60000 [==============================] - 11s 185us/step - loss: 0.1176 - val_loss: 0.1161\n",
      "Epoch 40/50\n",
      "60000/60000 [==============================] - 11s 175us/step - loss: 0.1168 - val_loss: 0.1177\n",
      "Epoch 41/50\n",
      "60000/60000 [==============================] - 10s 173us/step - loss: 0.1163 - val_loss: 0.1175\n",
      "Epoch 42/50\n",
      "60000/60000 [==============================] - 11s 180us/step - loss: 0.1156 - val_loss: 0.1135\n",
      "Epoch 43/50\n",
      "60000/60000 [==============================] - 11s 180us/step - loss: 0.1151 - val_loss: 0.1121 0s - loss: 0.1\n",
      "Epoch 44/50\n",
      "60000/60000 [==============================] - 11s 183us/step - loss: 0.1147 - val_loss: 0.1133\n",
      "Epoch 45/50\n",
      "60000/60000 [==============================] - 11s 182us/step - loss: 0.1142 - val_loss: 0.1129\n",
      "Epoch 46/50\n",
      "60000/60000 [==============================] - 11s 182us/step - loss: 0.1135 - val_loss: 0.1115\n",
      "Epoch 47/50\n",
      "60000/60000 [==============================] - 10s 174us/step - loss: 0.1129 - val_loss: 0.1105\n",
      "Epoch 48/50\n",
      "60000/60000 [==============================] - 11s 183us/step - loss: 0.1126 - val_loss: 0.1105\n",
      "Epoch 49/50\n",
      "60000/60000 [==============================] - 11s 180us/step - loss: 0.1122 - val_loss: 0.1093\n",
      "Epoch 50/50\n",
      "60000/60000 [==============================] - 11s 179us/step - loss: 0.1116 - val_loss: 0.1096\n"
     ]
    },
    {
     "data": {
      "text/plain": [
       "<keras.callbacks.History at 0x247d5ef1550>"
      ]
     },
     "execution_count": 21,
     "metadata": {},
     "output_type": "execute_result"
    }
   ],
   "source": [
    "input_img = Input(shape=(784,))\n",
    "\n",
    "encode = Dense(128, activation='relu')(input_img)\n",
    "encode = Dense(64, activation='relu')(encode)\n",
    "encode = Dense(32, activation='relu')(encode)\n",
    "\n",
    "decode = Dense(64, activation='relu')(encode)\n",
    "decode = Dense(128, activation='relu')(decode)\n",
    "decode = Dense(784, activation='sigmoid')(decode)\n",
    "\n",
    "\n",
    "autoencoder = Model(input_img, decode)\n",
    "\n",
    "autoencoder.compile(optimizer='adadelta', loss='binary_crossentropy')\n",
    "autoencoder.fit(x_train, x_train, batch_size=256, shuffle=True, epochs=50, validation_data=(x_test, x_test))"
   ]
  },
  {
   "cell_type": "code",
   "execution_count": 22,
   "metadata": {},
   "outputs": [
    {
     "data": {
      "image/png": "[encoded data removed]",
      "text/plain": [
       "<Figure size 1440x288 with 20 Axes>"
      ]
     },
     "metadata": {
      "needs_background": "light"
     },
     "output_type": "display_data"
    }
   ],
   "source": [
    "\n",
    "autoencoded_images = autoencoder.predict(x_test)\n",
    "\n",
    "import matplotlib.pyplot as plt\n",
    "n =10\n",
    "plt.figure(figsize=(20, 4))\n",
    "for i in range(n):\n",
    "    ax = plt.subplot(2, n, i+1)\n",
    "    plt.imshow(x_test[i].reshape(28, 28))\n",
    "    plt.gray()\n",
    "    ax.get_xaxis().set_visible(False)\n",
    "    ax.get_yaxis().set_visible(False)\n",
    "    ax = plt.subplot(2, n, i+1+n)\n",
    "    plt.imshow(autoencoded_images[i].reshape(28, 28))\n",
    "    plt.gray()\n",
    "    ax.get_xaxis().set_visible(False)\n",
    "    ax.get_yaxis().set_visible(False)\n",
    "    \n",
    "plt.show()\n",
    "    "
   ]
  },
  {
   "cell_type": "code",
   "execution_count": 28,
   "metadata": {},
   "outputs": [],
   "source": [
    "autoencoder.save('C:/Users/Muhammad Zubair Khan/Desktop/Directed Reading/Jupyter_notebooks_code/B_mnist_codefile/model.h5')\n",
    "autoencoder.save_weights('C:/Users/Muhammad Zubair Khan/Desktop/Directed Reading/Jupyter_notebooks_code/B_mnist_codefile/model_weight.h5')"
   ]
  }
 ],
 "metadata": {
  "kernelspec": {
   "display_name": "Python 3",
   "language": "python",
   "name": "python3"
  },
  "language_info": {
   "codemirror_mode": {
    "name": "ipython",
    "version": 3
   },
   "file_extension": ".py",
   "mimetype": "text/x-python",
   "name": "python",
   "nbconvert_exporter": "python",
   "pygments_lexer": "ipython3",
   "version": "3.5.2"
  }
 },
 "nbformat": 4,
 "nbformat_minor": 2
}
